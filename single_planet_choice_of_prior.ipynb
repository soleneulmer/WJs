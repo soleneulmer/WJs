{
 "cells": [
  {
   "cell_type": "markdown",
   "metadata": {},
   "source": [
    "# import libraries"
   ]
  },
  {
   "cell_type": "code",
   "execution_count": 1,
   "metadata": {},
   "outputs": [],
   "source": [
    "import numpy as np\n",
    "import pandas as pd\n",
    "import matplotlib.pyplot as plt\n",
    "import os\n",
    "\n",
    "from bloatedHJs import read_planet_data \n",
    "from bloatedHJs import SinglePlanetModel\n",
    "from bloatedHJs import corner_plot\n",
    "from bloatedHJs import inference"
   ]
  },
  {
   "cell_type": "code",
   "execution_count": 2,
   "metadata": {},
   "outputs": [],
   "source": [
    "# configure matplotlib for better visualisations\n",
    "from matplotlib import rcParams as rc\n",
    "\n",
    "rc['xtick.top'] = True\n",
    "rc['xtick.major.size']     = 6\n",
    "rc['xtick.minor.size']     = 3\n",
    "\n",
    "rc['xtick.direction']      = 'in'\n",
    "rc['xtick.minor.visible']  = True \n",
    "rc['xtick.minor.top']      = True \n",
    "rc['xtick.minor.bottom']   = True \n",
    "\n",
    "rc['ytick.right']          = True\n",
    "rc['ytick.major.size']     = 6\n",
    "rc['ytick.minor.size']     = 3\n",
    "\n",
    "rc['ytick.direction']      = 'in'\n",
    "rc['ytick.minor.visible']  = True\n",
    "rc['ytick.major.right']    = True\n",
    "rc['ytick.minor.right']    = True\n",
    "\n",
    "rc['font.size']            = 16\n",
    "rc['xtick.major.pad']      = 8.0\n",
    "rc['xtick.minor.pad']      = 8.0"
   ]
  },
  {
   "cell_type": "code",
   "execution_count": 3,
   "metadata": {},
   "outputs": [],
   "source": [
    "np.random.seed(1234)"
   ]
  },
  {
   "cell_type": "markdown",
   "metadata": {},
   "source": [
    "# Load planet data"
   ]
  },
  {
   "cell_type": "code",
   "execution_count": 4,
   "metadata": {},
   "outputs": [],
   "source": [
    "fp = 'data/sys_HD_209458'\n",
    "data = read_planet_data(fp)\n",
    "data = data.iloc[0]"
   ]
  },
  {
   "cell_type": "code",
   "execution_count": 5,
   "metadata": {},
   "outputs": [],
   "source": [
    "sys = fp.split('sys_')[1]\n",
    "if not os.path.exists(sys):\n",
    "    os.mkdir(sys)"
   ]
  },
  {
   "cell_type": "code",
   "execution_count": 6,
   "metadata": {},
   "outputs": [
    {
     "data": {
      "text/plain": [
       "System               HD_209458\n",
       "Mp                       0.714\n",
       "Mperr                    0.017\n",
       "Rp                        1.38\n",
       "Rperr                    0.017\n",
       "Mstar                    1.148\n",
       "Mstarerr                  0.04\n",
       "Teq                    1457.31\n",
       "sma                    0.04747\n",
       "Tstar                     6117\n",
       "Tstarerr                    50\n",
       "Rstar                    1.162\n",
       "Rstarerr                 0.014\n",
       "Mstar_completo         1.14427\n",
       "Mstarerr_completo    0.0117492\n",
       "Name: 0, dtype: object"
      ]
     },
     "execution_count": 6,
     "metadata": {},
     "output_type": "execute_result"
    }
   ],
   "source": [
    "data"
   ]
  },
  {
   "cell_type": "markdown",
   "metadata": {},
   "source": [
    "# Posterior Analysis"
   ]
  },
  {
   "cell_type": "markdown",
   "metadata": {},
   "source": [
    "In this section, we will study the effect of choosing different priors on the inferred internal lmuinosity `Lumi` of the planet (this is the main parameter of interest).\n",
    "To do this, we will assume `Lumi` follows two different distributions:\n",
    "\n",
    "1- uniform distribution in linear space\n",
    "\n",
    "2- uniform distribution in log space\n",
    "\n",
    "For more details why we chose these priors, check the paper ;) "
   ]
  },
  {
   "cell_type": "markdown",
   "metadata": {},
   "source": [
    "This can be easily done by running MCMC twice and setting `lumi_linear=True` and `lumi_linear=False`, respectively."
   ]
  },
  {
   "cell_type": "markdown",
   "metadata": {},
   "source": [
    "## Lumi ~ linear uniform distribution"
   ]
  },
  {
   "cell_type": "code",
   "execution_count": 7,
   "metadata": {},
   "outputs": [],
   "source": [
    "# MCMC was already ran in single_planet_demo notebook\n",
    "# we're just loading the samples in this notebook\n",
    "samples_posterior_linear = pd.read_csv('HD_209458/HD_209458_lumilinear_posterior_chains.csv', index_col=0)"
   ]
  },
  {
   "cell_type": "markdown",
   "metadata": {},
   "source": [
    "## Lumi ~ log uniform"
   ]
  },
  {
   "cell_type": "code",
   "execution_count": 8,
   "metadata": {},
   "outputs": [
    {
     "name": "stdout",
     "output_type": "stream",
     "text": [
      "~~~~~~~~~~~~~~~~~~~~~~~~~~~~~~~~~~~~~~~~~~~~~~~~~~\n",
      "           HD_209458_lumilog_posterior\n",
      "~~~~~~~~~~~~~~~~~~~~~~~~~~~~~~~~~~~~~~~~~~~~~~~~~~\n",
      "\n",
      "Running MCMC -- 50 walkers -- 500 nburn -- 500 nsteps ... \n",
      "\n",
      "Running burn-in ...\n",
      "Acceptance ratio in the burn-in stage ... 0.5417\n",
      "\n",
      "Running production chain...\n",
      "Acceptance ratio 0.5092\n",
      "MCMC DONE !\n",
      "Saving samples ... DONE !\n"
     ]
    }
   ],
   "source": [
    "sp_post_log = SinglePlanetModel(data, lumi_linear=False, progress=False)\n",
    "samples_posterior_log = sp_post_log.run_mcmc()"
   ]
  },
  {
   "cell_type": "markdown",
   "metadata": {},
   "source": [
    "## Compare the posterior distributions"
   ]
  },
  {
   "cell_type": "code",
   "execution_count": 9,
   "metadata": {},
   "outputs": [
    {
     "data": {
      "image/png": "[encoded data removed]",
      "text/plain": [
       "<Figure size 864x648 with 1 Axes>"
      ]
     },
     "metadata": {
      "needs_background": "light"
     },
     "output_type": "display_data"
    }
   ],
   "source": [
    "plt.figure(figsize=(12,9))\n",
    "plt.hist(np.log10(samples_posterior_linear['Lumi']), 20, \\\n",
    "         color='C0', label='Linear-Uniform', density=True)\n",
    "plt.hist(samples_posterior_log['Lumi'], 20, \\\n",
    "         color='C3', label='Log-Uniform', density=True, alpha=0.5)\n",
    "plt.legend()\n",
    "plt.xlabel(r'log$_{10}$ Internal Luminosity [L$_{\\rm J}$]')\n",
    "plt.ylabel('PDF');"
   ]
  },
  {
   "cell_type": "code",
   "execution_count": 10,
   "metadata": {},
   "outputs": [
    {
     "data": {
      "image/png": "[encoded data removed]",
      "text/plain": [
       "<Figure size 864x648 with 1 Axes>"
      ]
     },
     "metadata": {
      "needs_background": "light"
     },
     "output_type": "display_data"
    }
   ],
   "source": [
    "plt.figure(figsize=(12,9))\n",
    "plt.hist(samples_posterior_linear['Epsilon'], 20, \\\n",
    "         color='C0', label='Linear-Uniform', density=True)\n",
    "plt.hist(samples_posterior_log['Epsilon'], 20, \\\n",
    "         color='C3', label='Log-Uniform', density=True, alpha=0.5)\n",
    "plt.legend()\n",
    "plt.xlabel(r'Epsilon [%]')\n",
    "plt.ylabel('PDF')\n",
    "plt.xlim(0, 5);"
   ]
  },
  {
   "cell_type": "markdown",
   "metadata": {},
   "source": [
    "As we showed in Sarkis+2020 the results of the lower level of the hierarchical model are prior dependent. But we can correct for this to study the distribution at the population level! "
   ]
  },
  {
   "cell_type": "markdown",
   "metadata": {},
   "source": [
    "We will apply the methodology developed in Sarkis+2020 (see Section 4.2 of the paper) to study the distribution of the internal luminosity and Epsilon of the population."
   ]
  },
  {
   "cell_type": "code",
   "execution_count": null,
   "metadata": {},
   "outputs": [],
   "source": []
  }
 ],
 "metadata": {
  "kernelspec": {
   "display_name": "Python 3",
   "language": "python",
   "name": "python3"
  },
  "language_info": {
   "codemirror_mode": {
    "name": "ipython",
    "version": 3
   },
   "file_extension": ".py",
   "mimetype": "text/x-python",
   "name": "python",
   "nbconvert_exporter": "python",
   "pygments_lexer": "ipython3",
   "version": "3.7.1"
  },
  "toc": {
   "base_numbering": 1,
   "nav_menu": {},
   "number_sections": true,
   "sideBar": true,
   "skip_h1_title": false,
   "title_cell": "Table of Contents",
   "title_sidebar": "Contents",
   "toc_cell": false,
   "toc_position": {
    "height": "calc(100% - 180px)",
    "left": "10px",
    "top": "150px",
    "width": "193.85px"
   },
   "toc_section_display": true,
   "toc_window_display": true
  }
 },
 "nbformat": 4,
 "nbformat_minor": 2
}
